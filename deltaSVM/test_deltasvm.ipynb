{
 "cells": [
  {
   "cell_type": "code",
   "execution_count": 1,
   "metadata": {},
   "outputs": [],
   "source": [
    "import requests"
   ]
  },
  {
   "cell_type": "code",
   "execution_count": 12,
   "metadata": {},
   "outputs": [
    {
     "name": "stdout",
     "output_type": "stream",
     "text": [
      "Image saved as 'output_plot.jpeg'\n"
     ]
    }
   ],
   "source": [
    "# url = 'http://04fa-2600-4041-428c-a500-7847-6cc5-8884-20f1.ngrok.io/generate_plot'\n",
    "url = 'http://127.0.0.1:7778/generate_deltasvm_plot' #改 #已经改\n",
    "\n",
    "# xxx*1e6\n",
    "form_data = {\n",
    "    'chr_position_allele': '1:113044328_G/T'\n",
    "} #改 #已经改\n",
    "\n",
    "response = requests.post(url, json=form_data)\n",
    "\n",
    "\n",
    "if response.status_code == 200:\n",
    "    with open('output_plot.jpeg', 'wb') as file:\n",
    "        file.write(response.content)\n",
    "    print(\"Image saved as 'output_plot.jpeg'\")\n",
    "else:\n",
    "    print(f\"Failed to retrieve image. Status code: {response.status_code}\")"
   ]
  },
  {
   "cell_type": "code",
   "execution_count": null,
   "metadata": {},
   "outputs": [],
   "source": []
  }
 ],
 "metadata": {
  "kernelspec": {
   "display_name": "Python 3",
   "language": "python",
   "name": "python3"
  },
  "language_info": {
   "codemirror_mode": {
    "name": "ipython",
    "version": 3
   },
   "file_extension": ".py",
   "mimetype": "text/x-python",
   "name": "python",
   "nbconvert_exporter": "python",
   "pygments_lexer": "ipython3",
   "version": "3.10.11"
  }
 },
 "nbformat": 4,
 "nbformat_minor": 2
}
