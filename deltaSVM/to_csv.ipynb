{
 "cells": [
  {
   "cell_type": "code",
   "execution_count": 1,
   "metadata": {},
   "outputs": [],
   "source": [
    "import pandas as pd\n",
    "import matplotlib.pyplot as plt\n",
    "import numpy as np"
   ]
  },
  {
   "cell_type": "code",
   "execution_count": 2,
   "metadata": {},
   "outputs": [],
   "source": [
    "adrenal_dsvm = pd.read_csv('supp_data_lsgkm/dsvm/dsvm.adrenal_top100k_spec30_h3k27ac_avg10.1kgp3.hg19.eur.maf1.adrenal_dsvm_best2_100k.pos.bed', sep=\"\\t\")\n",
    "arteryti_dsvm = pd.read_csv('supp_data_lsgkm/dsvm/dsvm.arteryti_top100k_spec30_h3k27ac_avg10.1kgp3.hg19.eur.maf1.artery_dsvm_best2_100k.pos.bed', sep=\"\\t\")\n",
    "heart_dsvm = pd.read_csv('supp_data_lsgkm/dsvm/dsvm.heartlv_top100k_spec30_h3k27ac_avg10.1kgp3.hg19.eur.maf1.heart_dsvm_best2_100k.pos.bed', sep=\"\\t\")\n",
    "kidney_dsvm = pd.read_csv('supp_data_lsgkm/dsvm/dsvm.kidney_top100k_spec30_h3k27ac_avg10.1kgp3.hg19.eur.maf1.kidney_dsvm_best2_100k.pos.bed', sep=\"\\t\")"
   ]
  },
  {
   "cell_type": "code",
   "execution_count": 3,
   "metadata": {},
   "outputs": [],
   "source": [
    "column_names = ['chr', 'start', 'end', 'rsid', 'nucleotide1', 'nucleotide2', 'score1', 'score2', 'score3', 'score4']\n",
    "adrenal_dsvm.columns = column_names\n",
    "arteryti_dsvm.columns = column_names\n",
    "heart_dsvm.columns = column_names\n",
    "kidney_dsvm.columns = column_names"
   ]
  },
  {
   "cell_type": "code",
   "execution_count": 5,
   "metadata": {},
   "outputs": [],
   "source": [
    "adrenal_dsvm.to_csv('adrenal_dsvm.csv', index=False)\n",
    "arteryti_dsvm.to_csv('arteryti_dsvm.csv', index=False)\n",
    "heart_dsvm.to_csv('heart_dsvm.csv', index=False)\n",
    "kidney_dsvm.to_csv('kidney_dsvm.csv', index=False)"
   ]
  },
  {
   "cell_type": "code",
   "execution_count": null,
   "metadata": {},
   "outputs": [],
   "source": []
  }
 ],
 "metadata": {
  "kernelspec": {
   "display_name": "Python 3",
   "language": "python",
   "name": "python3"
  },
  "language_info": {
   "codemirror_mode": {
    "name": "ipython",
    "version": 3
   },
   "file_extension": ".py",
   "mimetype": "text/x-python",
   "name": "python",
   "nbconvert_exporter": "python",
   "pygments_lexer": "ipython3",
   "version": "3.10.11"
  }
 },
 "nbformat": 4,
 "nbformat_minor": 2
}
