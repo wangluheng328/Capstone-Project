{
 "cells": [
  {
   "cell_type": "code",
   "execution_count": 59,
   "metadata": {},
   "outputs": [],
   "source": [
    "import pandas as pd\n",
    "import matplotlib.pyplot as plt\n",
    "import numpy as np"
   ]
  },
  {
   "cell_type": "code",
   "execution_count": 60,
   "metadata": {},
   "outputs": [],
   "source": [
    "adrenal_dsvm = pd.read_csv('adrenal_dsvm.csv')\n",
    "arteryti_dsvm = pd.read_csv('arteryti_dsvm.csv')\n",
    "heart_dsvm = pd.read_csv('heart_dsvm.csv')\n",
    "kidney_dsvm = pd.read_csv('kidney_dsvm.csv')"
   ]
  },
  {
   "cell_type": "code",
   "execution_count": 61,
   "metadata": {},
   "outputs": [],
   "source": [
    "dsvms = [adrenal_dsvm, arteryti_dsvm, heart_dsvm, kidney_dsvm]"
   ]
  },
  {
   "cell_type": "code",
   "execution_count": 62,
   "metadata": {},
   "outputs": [],
   "source": [
    "def plot_delta_svm(dsvms, rsid1, rsid2, y_axis_min=-0.05):\n",
    "    data_rsid1 = []\n",
    "    data_rsid2 = []\n",
    "    for dsvm in dsvms:\n",
    "        filtered_dsvm_rsid1 = dsvm[dsvm['rsid'] == rsid1]\n",
    "        filtered_dsvm_rsid2 = dsvm[dsvm['rsid'] == rsid2]\n",
    "\n",
    "        first_score_rsid1 = filtered_dsvm_rsid1['score2'].values[0] if not filtered_dsvm_rsid1.empty else 0\n",
    "        first_score_rsid2 = filtered_dsvm_rsid2['score2'].values[0] if not filtered_dsvm_rsid2.empty else 0\n",
    "\n",
    "        data_rsid1.append(first_score_rsid1)\n",
    "        data_rsid2.append(first_score_rsid2)\n",
    "\n",
    "    # Plotting\n",
    "    fig, (ax1, ax2) = plt.subplots(1, 2, figsize=(12, 5))\n",
    "    colors = ['crimson', 'navy', 'green', 'purple']\n",
    "    dsvmsn = ['adrenal', 'artery', 'heart', 'kidney']\n",
    "\n",
    "    ax1.bar(dsvmsn, data_rsid1, label=rsid1, color=colors, width=0.5, bottom=y_axis_min)\n",
    "    ax1.set_ylabel('deltaSVMs')\n",
    "    ax1.set_title(rsid1)\n",
    "    ax1.set_ylim([y_axis_min, max(data_rsid1)+y_axis_min])\n",
    "\n",
    "    ax2.bar(dsvmsn, data_rsid2, label=rsid2, color=colors, width=0.5, bottom=y_axis_min)\n",
    "    ax2.set_title(rsid2)\n",
    "    ax2.set_ylim([y_axis_min, max(data_rsid2)+y_axis_min])\n",
    "\n",
    "    plt.show()"
   ]
  },
  {
   "cell_type": "code",
   "execution_count": null,
   "metadata": {},
   "outputs": [],
   "source": [
    "plot_delta_svm(dsvms, rsid1='rs10776752', rsid2='rs10776752', y_axis_min=-0.05)"
   ]
  },
  {
   "cell_type": "code",
   "execution_count": 39,
   "metadata": {},
   "outputs": [],
   "source": [
    "kidney_dsvm.sort_values(by=['score2'], inplace=True, ascending=False)"
   ]
  },
  {
   "cell_type": "code",
   "execution_count": 40,
   "metadata": {},
   "outputs": [],
   "source": [
    "adrenal_dsvm1 = adrenal_dsvm[adrenal_dsvm['rsid'] == 'rs10776752']\n",
    "arteryti_dsvm1 = arteryti_dsvm[arteryti_dsvm['rsid'] == 'rs10776752']\n",
    "heart_dsvm1 = heart_dsvm[heart_dsvm['rsid'] == 'rs10776752']\n",
    "kidney_dsvm1 = kidney_dsvm[kidney_dsvm['rsid'] == 'rs10776752']"
   ]
  },
  {
   "cell_type": "code",
   "execution_count": 41,
   "metadata": {},
   "outputs": [],
   "source": [
    "adrenal_dsvm2 = adrenal_dsvm[adrenal_dsvm['rsid'] == 'rs139258475']\n",
    "arteryti_dsvm2 = arteryti_dsvm[arteryti_dsvm['rsid'] == 'rs139258475']\n",
    "heart_dsvm2 = heart_dsvm[heart_dsvm['rsid'] == 'rs139258475']\n",
    "kidney_dsvm2 = kidney_dsvm[kidney_dsvm['rsid'] == 'rs139258475']"
   ]
  },
  {
   "cell_type": "code",
   "execution_count": 42,
   "metadata": {},
   "outputs": [],
   "source": [
    "dsvms = [adrenal_dsvm1, arteryti_dsvm1, heart_dsvm1, kidney_dsvm1]\n",
    "dsvms2 = [adrenal_dsvm2, arteryti_dsvm2, heart_dsvm2, kidney_dsvm2]\n",
    "dsvmsn = ['adrenal', 'arteryti', 'heart', 'kidney']"
   ]
  },
  {
   "cell_type": "code",
   "execution_count": 43,
   "metadata": {},
   "outputs": [],
   "source": [
    "data = []\n",
    "for dsvm in dsvms:\n",
    "    first_score = dsvm['score2'].values[0]\n",
    "    data.append(first_score)"
   ]
  },
  {
   "cell_type": "code",
   "execution_count": 44,
   "metadata": {},
   "outputs": [],
   "source": [
    "data2 = []\n",
    "for dsvm in dsvms2:\n",
    "    first_score = dsvm['score2'].values[0]\n",
    "    data2.append(first_score)"
   ]
  },
  {
   "cell_type": "code",
   "execution_count": 45,
   "metadata": {},
   "outputs": [
    {
     "data": {
      "image/png": "[encoded data removed]",
      "text/plain": [
       "<Figure size 1200x500 with 2 Axes>"
      ]
     },
     "metadata": {},
     "output_type": "display_data"
    }
   ],
   "source": [
    "y_axis_min = -0.05\n",
    "\n",
    "fig, (ax1,ax2) = plt.subplots(1,2, figsize=(12, 5))\n",
    "colors = ['crimson', 'navy', 'green', 'purple']\n",
    "ax1.bar(dsvmsn, data, label='rs10776752', color=colors, width=0.5, bottom=y_axis_min)\n",
    "# ax1.set_xlabel(dsvmsn)\n",
    "ax1.set_ylabel('daltaSVMs')\n",
    "ax1.set_title('rs10776752')\n",
    "\n",
    "ax2.bar(dsvmsn, data2, label='rs139258475', color=colors, width=0.5, bottom=y_axis_min)\n",
    "# ax2.set_xlabel(dsvmsn)\n",
    "# ax2.set_ylabel('dalta svms')\n",
    "ax2.set_title('rs139258475')\n",
    "\n",
    "ax1.set_ylim([y_axis_min, max(data)])\n",
    "ax2.set_ylim([y_axis_min, max(data2)])\n",
    "\n",
    "\n",
    "# ax.xlabel('dalta svms')\n",
    "# ax.ylabel('Score2')\n",
    "plt.show()"
   ]
  },
  {
   "cell_type": "code",
   "execution_count": null,
   "metadata": {},
   "outputs": [],
   "source": []
  }
 ],
 "metadata": {
  "kernelspec": {
   "display_name": "Python 3",
   "language": "python",
   "name": "python3"
  },
  "language_info": {
   "codemirror_mode": {
    "name": "ipython",
    "version": 3
   },
   "file_extension": ".py",
   "mimetype": "text/x-python",
   "name": "python",
   "nbconvert_exporter": "python",
   "pygments_lexer": "ipython3",
   "version": "3.10.11"
  }
 },
 "nbformat": 4,
 "nbformat_minor": 2
}
